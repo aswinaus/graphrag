{
  "nbformat": 4,
  "nbformat_minor": 0,
  "metadata": {
    "colab": {
      "provenance": [],
      "authorship_tag": "ABX9TyN9h319zDiaVcBEVwLZUuO9",
      "include_colab_link": true
    },
    "kernelspec": {
      "name": "python3",
      "display_name": "Python 3"
    },
    "language_info": {
      "name": "python"
    }
  },
  "cells": [
    {
      "cell_type": "markdown",
      "metadata": {
        "id": "view-in-github",
        "colab_type": "text"
      },
      "source": [
        "<a href=\"https://colab.research.google.com/github/aswinaus/graphrag/blob/main/Graph_RAG_GraphDB_Inference_Test.ipynb\" target=\"_parent\"><img src=\"https://colab.research.google.com/assets/colab-badge.svg\" alt=\"Open In Colab\"/></a>"
      ]
    },
    {
      "cell_type": "code",
      "execution_count": null,
      "metadata": {
        "id": "NsTuhkueA8IT"
      },
      "outputs": [],
      "source": [
        "from IPython.display import HTML, display\n",
        "\n",
        "def set_css():\n",
        "  display(HTML('''\n",
        "\n",
        "  '''))\n",
        "get_ipython().events.register('pre_run_cell', set_css)"
      ]
    },
    {
      "cell_type": "code",
      "source": [
        "public_url = \"https://14f3-35-201-137-165.ngrok-free.app\""
      ],
      "metadata": {
        "colab": {
          "base_uri": "https://localhost:8080/",
          "height": 17
        },
        "id": "tfE0b_cKBIiw",
        "outputId": "611a599c-8fdb-455e-a3d3-52e58851eeec"
      },
      "execution_count": null,
      "outputs": [
        {
          "output_type": "display_data",
          "data": {
            "text/plain": [
              "<IPython.core.display.HTML object>"
            ],
            "text/html": [
              "\n",
              "\n",
              "  "
            ]
          },
          "metadata": {}
        }
      ]
    },
    {
      "cell_type": "code",
      "source": [
        "question = \"Can you get the No of returns,\tNo of single returns,\tNo of joint returns and\tNo of head of household returns for state AL in all the income range?\"\n",
        "##############\n",
        "\n",
        "\n",
        "context = \"\"\"\n",
        "'Please make sure to answer based on the GraphDB context only\n",
        "\"\"\""
      ],
      "metadata": {
        "colab": {
          "base_uri": "https://localhost:8080/",
          "height": 17
        },
        "id": "TobZgg5WBZ34",
        "outputId": "f6e4aed9-0e86-437e-c611-618a61019dab"
      },
      "execution_count": null,
      "outputs": [
        {
          "output_type": "display_data",
          "data": {
            "text/plain": [
              "<IPython.core.display.HTML object>"
            ],
            "text/html": [
              "\n",
              "\n",
              "  "
            ]
          },
          "metadata": {}
        }
      ]
    },
    {
      "cell_type": "code",
      "source": [
        "import requests\n",
        "input_text = {\n",
        "    \"input\": question\n",
        "}\n",
        "\n",
        "\n",
        "# Function to fetch streaming response\n",
        "def fetch_data():\n",
        "    response = requests.post(f'{public_url}/graphDB-inference', json=input_text, stream=True)\n",
        "    for chunk in response.iter_content(chunk_size=1024):\n",
        "        # Process the data (in this example, simply print the chunks)\n",
        "        print(chunk.decode('utf-8'), end = '')\n",
        "\n",
        "# Call the function to start fetching data\n",
        "fetch_data()\n"
      ],
      "metadata": {
        "colab": {
          "base_uri": "https://localhost:8080/",
          "height": 17
        },
        "id": "bY2TMgqQBUfA",
        "outputId": "3fd2e0ee-5588-47b3-fef1-e12b527c0741"
      },
      "execution_count": null,
      "outputs": [
        {
          "output_type": "display_data",
          "data": {
            "text/plain": [
              "<IPython.core.display.HTML object>"
            ],
            "text/html": [
              "\n",
              "\n",
              "  "
            ]
          },
          "metadata": {}
        }
      ]
    }
  ]
}