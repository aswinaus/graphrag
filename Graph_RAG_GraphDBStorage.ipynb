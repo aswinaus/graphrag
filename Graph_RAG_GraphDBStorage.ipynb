{
  "nbformat": 4,
  "nbformat_minor": 0,
  "metadata": {
    "colab": {
      "provenance": [],
      "authorship_tag": "ABX9TyMu1tltonleBmLojhBClny4",
      "include_colab_link": true
    },
    "kernelspec": {
      "name": "python3",
      "display_name": "Python 3"
    },
    "language_info": {
      "name": "python"
    }
  },
  "cells": [
    {
      "cell_type": "markdown",
      "metadata": {
        "id": "view-in-github",
        "colab_type": "text"
      },
      "source": [
        "<a href=\"https://colab.research.google.com/github/aswinaus/graphrag/blob/main/Graph_RAG_GraphDBStorage.ipynb\" target=\"_parent\"><img src=\"https://colab.research.google.com/assets/colab-badge.svg\" alt=\"Open In Colab\"/></a>"
      ]
    },
    {
      "cell_type": "code",
      "execution_count": null,
      "metadata": {
        "id": "umemZmS58iVv"
      },
      "outputs": [],
      "source": [
        "%pip install pyvis IPython cchardet datasets langchain==0.1.17 neo4j openai tiktoken langchain-community langchain-experimental json-repair\n",
        "from neo4j import GraphDatabase\n",
        "from google.colab import userdata\n",
        "\n",
        "url = userdata.get('NEO4J_URI')\n",
        "username =\"neo4j\"\n",
        "password = userdata.get('NEO4J_PASSWORD')\n",
        "\n",
        "driver = GraphDatabase.driver(url, auth=(username, password))"
      ]
    },
    {
      "cell_type": "code",
      "source": [
        "def add_graph_to_neo4j(driver, graph):\n",
        "    with driver.session() as session:\n",
        "        # Add Nodes\n",
        "        for node, attrs in graph.nodes(data=True):\n",
        "            cypher_query = \"\"\"\n",
        "            MERGE (n:__Entity__ {{name:\n",
        "entity}})\n",
        "            SET n += $props\n",
        "            WITH n\n",
        "            CALL apoc.create.addLabels( n, ['{label}'] ) YIELD node\n",
        "            RETURN distinct 'done' AS result\n",
        "            \"\"\".format(label=attrs['entity'])  # Dynamically set the label based on the 'entity' attribute\n",
        "            session.run(cypher_query, name=node, entity=attrs['entity'], props={k: v for k, v in attrs.items() if k not in ['entity']})\n",
        "\n",
        "        # Add Edges\n",
        "        for source, target, attrs in graph.edges(data=True):\n",
        "            cypher_query = \"\"\"\n",
        "            MATCH (a),(b)\n",
        "            WHERE a.name =\n",
        "target\n",
        "            MERGE (a)-[r:{relationship}]->(b)\n",
        "            SET r += $props\n",
        "            \"\"\".format(relationship=attrs['relationship'])  # Dynamically set the relationship type\n",
        "            session.run(cypher_query, source=source, target=target, props={k: v for k, v in attrs.items() if k not in ['relationship']})\n",
        "\n",
        "# Finally, call the function to add your graph to Neo4j\n",
        "add_graph_to_neo4j(driver, G)\n"
      ],
      "metadata": {
        "colab": {
          "base_uri": "https://localhost:8080/",
          "height": 182
        },
        "id": "OGFvufE49WDJ",
        "outputId": "ea005cf1-29f4-41c7-b719-28fc0fb80fa8"
      },
      "execution_count": 4,
      "outputs": [
        {
          "output_type": "error",
          "ename": "NameError",
          "evalue": "name 'G' is not defined",
          "traceback": [
            "\u001b[0;31m---------------------------------------------------------------------------\u001b[0m",
            "\u001b[0;31mNameError\u001b[0m                                 Traceback (most recent call last)",
            "\u001b[0;32m<ipython-input-4-5a298d2b2a8a>\u001b[0m in \u001b[0;36m<cell line: 0>\u001b[0;34m()\u001b[0m\n\u001b[1;32m     25\u001b[0m \u001b[0;34m\u001b[0m\u001b[0m\n\u001b[1;32m     26\u001b[0m \u001b[0;31m# Finally, call the function to add your graph to Neo4j\u001b[0m\u001b[0;34m\u001b[0m\u001b[0;34m\u001b[0m\u001b[0m\n\u001b[0;32m---> 27\u001b[0;31m \u001b[0madd_graph_to_neo4j\u001b[0m\u001b[0;34m(\u001b[0m\u001b[0mdriver\u001b[0m\u001b[0;34m,\u001b[0m \u001b[0mG\u001b[0m\u001b[0;34m)\u001b[0m\u001b[0;34m\u001b[0m\u001b[0;34m\u001b[0m\u001b[0m\n\u001b[0m",
            "\u001b[0;31mNameError\u001b[0m: name 'G' is not defined"
          ]
        }
      ]
    }
  ]
}