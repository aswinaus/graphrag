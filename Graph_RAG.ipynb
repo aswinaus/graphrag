{
  "nbformat": 4,
  "nbformat_minor": 0,
  "metadata": {
    "colab": {
      "provenance": [],
      "machine_shape": "hm",
      "authorship_tag": "ABX9TyMZjkUbzSu7wxOVtKqplHt5",
      "include_colab_link": true
    },
    "kernelspec": {
      "name": "python3",
      "display_name": "Python 3"
    },
    "language_info": {
      "name": "python"
    }
  },
  "cells": [
    {
      "cell_type": "markdown",
      "metadata": {
        "id": "view-in-github",
        "colab_type": "text"
      },
      "source": [
        "<a href=\"https://colab.research.google.com/github/aswinaus/graphrag/blob/main/Graph_RAG.ipynb\" target=\"_parent\"><img src=\"https://colab.research.google.com/assets/colab-badge.svg\" alt=\"Open In Colab\"/></a>"
      ]
    },
    {
      "cell_type": "code",
      "execution_count": null,
      "metadata": {
        "id": "zVDhdnIvu8O8"
      },
      "outputs": [],
      "source": [
        "%pip install pyvis IPython cchardet datasets langchain==0.1.17 neo4j openai tiktoken langchain-community langchain-experimental json-repair"
      ]
    },
    {
      "cell_type": "code",
      "source": [
        "from getpass import getpass\n",
        "import os\n",
        "from google.colab import userdata\n",
        "os.environ[\"OPENAI_API_KEY\"] = userdata.get(\"OPENAI_API_KEY\")"
      ],
      "metadata": {
        "id": "CZuwREx40lwj"
      },
      "execution_count": null,
      "outputs": []
    },
    {
      "cell_type": "code",
      "source": [
        "from datasets import load_dataset\n",
        "import pandas as pd\n",
        "dataset = load_dataset(\"aswinaus/tax_statistics_dataset_by_income_range\", download_mode=\"force_redownload\")\n",
        "df=pd.DataFrame(dataset['train'])"
      ],
      "metadata": {
        "id": "8uhqUOej01Jc",
        "collapsed": true
      },
      "execution_count": null,
      "outputs": []
    },
    {
      "cell_type": "code",
      "source": [
        "df.head(10)"
      ],
      "metadata": {
        "id": "SXWJwp2WfHIK"
      },
      "execution_count": null,
      "outputs": []
    },
    {
      "cell_type": "code",
      "source": [
        "# @title Knowledge Graph Builder & Visualizer\n",
        "# @markdown Note that rendering the graph will take a minute or two under the default 10% sample size, longer with higher sample sizes.\n",
        "sample_size = 0.66 # @param {type:\"number\", default:0.10}\n",
        "import pandas as pd\n",
        "import networkx as nx\n",
        "from pyvis.network import Network\n",
        "from IPython.display import IFrame\n",
        "from IPython.display import Markdown, HTML\n",
        "\n",
        "\n",
        "colors = {\n",
        "    'zipcode': 'lightblue',\n",
        "    'incometaxby_state_name': 'orange',\n",
        "    'No of returns': 'red',\n",
        "    'No of single returns': 'green',\n",
        "    'No of joint returns': 'magenta',\n",
        "    'No of joint returns': 'purple',\n",
        "}\n",
        "sizes = {\n",
        "    'zipcode': 20,\n",
        "    'Size of adjusted gross income': 15,\n",
        "    'No of returns': 25,\n",
        "    'No of single returns': 30,\n",
        "    'No of joint returns': 10\n",
        "}\n",
        "\n",
        "# Stratify based on 'rating_value', 'locality', 'trip_period', 'hotel_name' columns\n",
        "stratify_cols = ['Size of adjusted gross income', 'zipcode', 'STATE', 'No of returns']\n",
        "sample_size = 0.6\n",
        "\n",
        "# Perform stratified sampling\n",
        "sampled_df = df.groupby(stratify_cols, group_keys=False).apply(lambda x: x.sample(frac=sample_size))\n",
        "\n",
        "# Initialize a directed graph\n",
        "G = nx.DiGraph()\n",
        "\n",
        "# Adding nodes with the entity type as a node attribute\n",
        "for index, row in sampled_df.iterrows():\n",
        "    incometaxby_state_name=f\"{row['STATE']}_{row['zipcode']}_{row['Size of adjusted gross income']}\"\n",
        "    if row['STATE'] not in G:\n",
        "      G.add_node(row['STATE'],\n",
        "                 entity='STATE',\n",
        "                 color=colors.get('STATE', 'blue'),\n",
        "                 size=sizes.get('STATE', 5), )\n",
        "\n",
        "    if row['Size of adjusted gross income'] not in G:\n",
        "      G.add_node(row['Size of adjusted gross income'], entity='Size of adjusted gross income', color=colors.get('LOCALITY', 'gray'),\n",
        "                 size=sizes.get('Size of adjusted gross income', 40))\n",
        "\n",
        "    #G.add_node(\n",
        "    #           row['zipcode'],\n",
        "    #           entity='ZIPCODE',\n",
        "    #           color=colors.get('ZIPCODE', 'orange'),\n",
        "    #           size=sizes.get('ZIPCODE', 20))\n",
        "\n",
        "    G.add_node(\n",
        "               row['No of returns'],\n",
        "               entity='No_of_returns',\n",
        "               color=colors.get('No_of_returns', 'green'),\n",
        "               size=sizes.get('No_of_returns', 25))\n",
        "\n",
        "    G.add_node(\n",
        "               row['No of single returns'],\n",
        "               entity='No_of_single_returns',\n",
        "               color=colors.get('No_of_single_returns', 'orange'),\n",
        "               size=sizes.get('No_of_returns', 25))\n",
        "\n",
        "    G.add_node(\n",
        "               row['No of joint returns'],\n",
        "               entity='No_of_joint_returns',\n",
        "               color=colors.get('No_of_joint_returns', 'brown'),\n",
        "               size=sizes.get('No_of_joint_returns',25))\n",
        "\n",
        "    G.add_edge(row['STATE'], row['No of returns'],relationship='Size of adjusted gross income')\n",
        "    G.add_edge(row['STATE'], row['No of single returns'],relationship='Size of adjusted gross income')\n",
        "    G.add_edge(row['STATE'], row['No of joint returns'],relationship='Size of adjusted gross income')\n",
        "\n",
        "    G.add_edge(row['zipcode'],row['No of returns'], relationship='Size of adjusted gross income')\n",
        "\n",
        "\n",
        "# Step 4: Visualization (Optional)\n",
        "# Convert to a pyvis network\n",
        "nt = Network('700px', '700px', notebook=True, cdn_resources='in_line')\n",
        "# if you are not in a Jupyter environment, you might need to set notebook=False\n",
        "nt.from_nx(G)\n",
        "nt.toggle_physics(True)  # Enable force-directed algorithm\n",
        "nt.save_graph('income_tax_2019_graph.html')\n",
        "nt.show('income_tax_2019_graph.html')\n",
        "\n",
        "HTML('income_tax_2019_graph.html')"
      ],
      "metadata": {
        "id": "OwWhZp0nkldh"
      },
      "execution_count": null,
      "outputs": []
    }
  ]
}